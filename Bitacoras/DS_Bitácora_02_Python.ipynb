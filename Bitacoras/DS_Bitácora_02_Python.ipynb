{
 "cells": [
  {
   "cell_type": "markdown",
   "metadata": {
    "id": "aDaMLDnAPBMf"
   },
   "source": [
    "# Introducción a Python\n",
    "\n",
    "En este notebook vamos a recorrer algunos conceptos básicos de programación en general y como los aplicamos con Python. Recomendamos ir haciéndolo con algún recurso que hayan elegido - más adelante te dejamos uno - y con el buscador de Google como su mejor amigo. Existen muchísimos recursos de libre acceso disponibles para ayudarnos, recomendamos https://learnxinyminutes.com/docs/python3/ o los otros mencionados en las bitácoras.\n",
    "\n",
    "\n",
    "**Recomendación**: además de realizar los ejercicios, les sugerimos fuertemente que vayan probando y modificando el código presente en este notebook. La mejor manera de aprender es haciendo, 'romper' el código e intentar entender porque dejó de funcionar. ¡No hay nada irreversible, no tengas miedo! Siempre podés volver a descargar el notebook.\n",
    "\n",
    "## 1. Variables, Tipos de Datos y Operaciones\n",
    "\n",
    "### 1.1 Variables\n",
    "\n",
    "Al crear una variable le estás poniendo un nombre a un objeto. Cada variable debe llevar un nombre a través del cual nos referimos a ella, los nombres deben ser únicos y, en lo posible, ser lo mas explícitos posibles para evitar confusiones. Usando el `=` se asigna un valor a una variable. No es un igual matemático/lógico, puedes pensarlo como una flecha (`<--`) que asigna lo que hay del lado derecho a lo que hay del lado izquierdo. Recordemos algunos ejemplos."
   ]
  },
  {
   "cell_type": "code",
   "execution_count": null,
   "metadata": {
    "id": "Ejj7jqb9PBMk"
   },
   "outputs": [],
   "source": [
    "# Asignamos el valor 3 a una variable que creamos, de nombre x\n",
    "x = 3\n",
    "\n",
    "# Evaluamos e imprimimos en pantalla el resultado\n",
    "print(x)"
   ]
  },
  {
   "cell_type": "code",
   "execution_count": null,
   "metadata": {
    "id": "G0_JnDgrPBMu"
   },
   "outputs": [],
   "source": [
    "# Asignamos el valor 15.7 a una nueva variable, de nombre y\n",
    "y = 15.7\n",
    "\n",
    "print(y)"
   ]
  },
  {
   "cell_type": "code",
   "execution_count": null,
   "metadata": {
    "id": "1sVjKnS8PBM0"
   },
   "outputs": [],
   "source": [
    "# Podemos definir una nueva variable como la suma de dos anteriores\n",
    "z = x + y\n",
    "\n",
    "print(z)"
   ]
  },
  {
   "cell_type": "markdown",
   "metadata": {
    "id": "rRLxeWdMJvcP"
   },
   "source": [
    "Pero en las variables no necesariamente ponemos números, también podemos poner texto (*strings*)"
   ]
  },
  {
   "cell_type": "code",
   "execution_count": 3,
   "metadata": {
    "colab": {
     "base_uri": "https://localhost:8080/",
     "height": 34
    },
    "executionInfo": {
     "elapsed": 2161,
     "status": "ok",
     "timestamp": 1603051979048,
     "user": {
      "displayName": "Francisco Possetto",
      "photoUrl": "https://lh3.googleusercontent.com/a-/AOh14GgMnKB1kcatiDzoSJ2uSpMKWVjksn7exIN7HAs=s64",
      "userId": "13006079839266746506"
     },
     "user_tz": 180
    },
    "id": "n-OyQw00PBM6",
    "outputId": "f40d8f01-7faa-48df-8427-27e1754d7fc7"
   },
   "outputs": [
    {
     "name": "stdout",
     "output_type": "stream",
     "text": [
      "HOLA!\n"
     ]
    }
   ],
   "source": [
    "# Se peude tambier asignar un valor de texto otra variable\n",
    "un_texto = 'HOLA!'\n",
    "\n",
    "print(un_texto)"
   ]
  },
  {
   "cell_type": "markdown",
   "metadata": {
    "id": "Y0t7En_OJvcb"
   },
   "source": [
    "**Probar:** ejecutar la siguiente celda. ¿Cuál es la diferencia?"
   ]
  },
  {
   "cell_type": "code",
   "execution_count": 4,
   "metadata": {
    "colab": {
     "base_uri": "https://localhost:8080/",
     "height": 51
    },
    "executionInfo": {
     "elapsed": 1713,
     "status": "ok",
     "timestamp": 1603051981493,
     "user": {
      "displayName": "Francisco Possetto",
      "photoUrl": "https://lh3.googleusercontent.com/a-/AOh14GgMnKB1kcatiDzoSJ2uSpMKWVjksn7exIN7HAs=s64",
      "userId": "13006079839266746506"
     },
     "user_tz": 180
    },
    "id": "RlzXb8nYJvcd",
    "outputId": "8458fa32-e0de-4440-dfce-77b69eeffecc"
   },
   "outputs": [
    {
     "name": "stdout",
     "output_type": "stream",
     "text": [
      "HOLA!\n",
      "un_texto\n"
     ]
    }
   ],
   "source": [
    "print(un_texto)\n",
    "print('un_texto')"
   ]
  },
  {
   "cell_type": "markdown",
   "metadata": {
    "id": "ScGT3xT4Jvcl"
   },
   "source": [
    "Si queremos, podemos borrar alguna variable que ya no utilizaremos más"
   ]
  },
  {
   "cell_type": "code",
   "execution_count": 5,
   "metadata": {
    "colab": {
     "base_uri": "https://localhost:8080/",
     "height": 180
    },
    "executionInfo": {
     "elapsed": 1818,
     "status": "error",
     "timestamp": 1603051995631,
     "user": {
      "displayName": "Francisco Possetto",
      "photoUrl": "https://lh3.googleusercontent.com/a-/AOh14GgMnKB1kcatiDzoSJ2uSpMKWVjksn7exIN7HAs=s64",
      "userId": "13006079839266746506"
     },
     "user_tz": 180
    },
    "id": "Dj_DJGDOPBNB",
    "outputId": "2cd07b65-16b0-413e-d2b9-b5f319aaffa0"
   },
   "outputs": [
    {
     "ename": "NameError",
     "evalue": "ignored",
     "output_type": "error",
     "traceback": [
      "\u001b[0;31m---------------------------------------------------------------------------\u001b[0m",
      "\u001b[0;31mNameError\u001b[0m                                 Traceback (most recent call last)",
      "\u001b[0;32m<ipython-input-5-8fd386dc8d5f>\u001b[0m in \u001b[0;36m<module>\u001b[0;34m()\u001b[0m\n\u001b[1;32m      1\u001b[0m \u001b[0;32mdel\u001b[0m\u001b[0;34m(\u001b[0m\u001b[0mun_texto\u001b[0m\u001b[0;34m)\u001b[0m\u001b[0;34m\u001b[0m\u001b[0;34m\u001b[0m\u001b[0m\n\u001b[0;32m----> 2\u001b[0;31m \u001b[0mprint\u001b[0m\u001b[0;34m(\u001b[0m\u001b[0mun_texto\u001b[0m\u001b[0;34m)\u001b[0m\u001b[0;34m\u001b[0m\u001b[0;34m\u001b[0m\u001b[0m\n\u001b[0m",
      "\u001b[0;31mNameError\u001b[0m: name 'un_texto' is not defined"
     ]
    }
   ],
   "source": [
    "del(un_texto)\n",
    "print(un_texto)"
   ]
  },
  {
   "cell_type": "markdown",
   "metadata": {
    "id": "x3UOib9UPBNG"
   },
   "source": [
    "**Nota importante**: al correr esta ultima linea, deben ver un mensaje de error. Los mensajes de error son MUY IMPORTANTES. Nos brindan información muy valiosa cuando nuestro código no funciona. En este caso, nos está avisando que no puede imprimir la variable `un_texto`, ya que la eliminamos y no está definida.\n",
    "\n",
    "Muchas veces, para resolver el error, lo mejor que podemos hacer es googlearlo.¡Notar que en Colab ya nos da la opción de Googlear el error en Stack Overflow!"
   ]
  },
  {
   "cell_type": "markdown",
   "metadata": {
    "id": "520n2L18PBNH"
   },
   "source": [
    "### 1.2 Tipos de Datos\n",
    "Cuando definimos una variable, dependiendo el contenido que le asignamos, la misma será de un determinado tipo. Los tipos de datos más comunes de variables son: `int`,`float`,`string` y `boolean`. Veamos algunos ejemplos de cada tipo."
   ]
  },
  {
   "cell_type": "code",
   "execution_count": null,
   "metadata": {
    "id": "5MQYEBApPBNK"
   },
   "outputs": [],
   "source": [
    "a = 42\n",
    "print(type(a))"
   ]
  },
  {
   "cell_type": "code",
   "execution_count": null,
   "metadata": {
    "id": "E0g87gVfPBNP"
   },
   "outputs": [],
   "source": [
    "b = 7.8\n",
    "print(type(b))"
   ]
  },
  {
   "cell_type": "code",
   "execution_count": null,
   "metadata": {
    "id": "6SFdLEFIPBNW"
   },
   "outputs": [],
   "source": [
    "c = True\n",
    "print(type(c))"
   ]
  },
  {
   "cell_type": "code",
   "execution_count": null,
   "metadata": {
    "id": "i_cCG-iYPBNb"
   },
   "outputs": [],
   "source": [
    "t1 = 'hola'\n",
    "print(type(\"hola\"))\n",
    "\n",
    "t2 = '523'\n",
    "print(type('t2'))"
   ]
  },
  {
   "cell_type": "markdown",
   "metadata": {
    "id": "fAiC3ranPBNh"
   },
   "source": [
    "**Nota**: a pesar de ser un número, la variable `t2` es de tipo `string`. Esto se debe a que lo pusimos entre comillas."
   ]
  },
  {
   "cell_type": "code",
   "execution_count": null,
   "metadata": {
    "id": "erSdYVqhPBNj"
   },
   "outputs": [],
   "source": [
    "# Este es un tipo especial de variable, que se utiliza para simbolizar algo 'vacio'\n",
    "d = None\n",
    "print(type(d))"
   ]
  },
  {
   "cell_type": "markdown",
   "metadata": {
    "id": "WhJ_nLaCPBNo"
   },
   "source": [
    "Si por algun motivo (ya veremos que esto es algo que suele suceder), uno desea explicitar el tipo de variable y no dejar que python lo asuma por si solo, esto también es posible."
   ]
  },
  {
   "cell_type": "code",
   "execution_count": 6,
   "metadata": {
    "colab": {
     "base_uri": "https://localhost:8080/",
     "height": 68
    },
    "executionInfo": {
     "elapsed": 1631,
     "status": "ok",
     "timestamp": 1603052055528,
     "user": {
      "displayName": "Francisco Possetto",
      "photoUrl": "https://lh3.googleusercontent.com/a-/AOh14GgMnKB1kcatiDzoSJ2uSpMKWVjksn7exIN7HAs=s64",
      "userId": "13006079839266746506"
     },
     "user_tz": 180
    },
    "id": "AvUDAvtpPBNp",
    "outputId": "6eb3cbe1-f34b-4dff-e911-f5eb5612e22f"
   },
   "outputs": [
    {
     "name": "stdout",
     "output_type": "stream",
     "text": [
      "<class 'int'>\n",
      "<class 'float'>\n",
      "<class 'str'>\n"
     ]
    }
   ],
   "source": [
    "numero = 45\n",
    "print(type(numero))\n",
    "\n",
    "# Quiero que sea un 'float' y no un int\n",
    "numero = float(45)\n",
    "print(type(numero))\n",
    "\n",
    "# Quiero que sea un 'string' y no un int\n",
    "numero = str(45)\n",
    "print(type(numero))"
   ]
  },
  {
   "cell_type": "code",
   "execution_count": 7,
   "metadata": {
    "colab": {
     "base_uri": "https://localhost:8080/",
     "height": 51
    },
    "executionInfo": {
     "elapsed": 1775,
     "status": "ok",
     "timestamp": 1603052066707,
     "user": {
      "displayName": "Francisco Possetto",
      "photoUrl": "https://lh3.googleusercontent.com/a-/AOh14GgMnKB1kcatiDzoSJ2uSpMKWVjksn7exIN7HAs=s64",
      "userId": "13006079839266746506"
     },
     "user_tz": 180
    },
    "id": "r6B6f_oOPBNv",
    "outputId": "cf17646f-36a3-49e9-9d3c-9d97bacb619a"
   },
   "outputs": [
    {
     "name": "stdout",
     "output_type": "stream",
     "text": [
      "<class 'float'>\n",
      "<class 'int'>\n"
     ]
    }
   ],
   "source": [
    "otro_numero = 45.0\n",
    "print(type(otro_numero))\n",
    "\n",
    "# Quiero que sea un 'int' y no un 'float'\n",
    "otro_numero = int(45.0)\n",
    "print(type(otro_numero))"
   ]
  },
  {
   "cell_type": "markdown",
   "metadata": {
    "id": "4EMswXwbPjLD"
   },
   "source": [
    "**Ejercicio**: Cambiar el tipo de la variable 'numero' a float."
   ]
  },
  {
   "cell_type": "code",
   "execution_count": 9,
   "metadata": {
    "colab": {
     "base_uri": "https://localhost:8080/",
     "height": 34
    },
    "executionInfo": {
     "elapsed": 1059,
     "status": "ok",
     "timestamp": 1603052112121,
     "user": {
      "displayName": "Francisco Possetto",
      "photoUrl": "https://lh3.googleusercontent.com/a-/AOh14GgMnKB1kcatiDzoSJ2uSpMKWVjksn7exIN7HAs=s64",
      "userId": "13006079839266746506"
     },
     "user_tz": 180
    },
    "id": "g6o0UHSbPuZu",
    "outputId": "99edf652-ef64-459b-d017-1b148f0fce0e"
   },
   "outputs": [
    {
     "name": "stdout",
     "output_type": "stream",
     "text": [
      "Correcto!\n"
     ]
    }
   ],
   "source": [
    "numero = '5'\n",
    "numero = float(5)\n",
    "\n",
    "# La siguientes lineas de codigo chequean si hiciste correctamente el ejercicio\n",
    "# No importa si no entiendes qué hace.\n",
    "if type(numero) is float:\n",
    "    print('Correcto!')\n",
    "else:\n",
    "    print('Convierte la variable a tipo float')"
   ]
  },
  {
   "cell_type": "markdown",
   "metadata": {
    "id": "Zip2yREWPBN0"
   },
   "source": [
    "### 1.3 Operaciones\n",
    "Con las variables que definimos, podemos realizar distintas operaciones. Dependiendo el tipo de variable, hay diferentes operaciones diponibles. En este notebook veremos operaciones con números - `int` y `float`; más adelante veremos operaciones con texto.\n",
    "\n",
    "#### 1.3.1 Operaciones con números\n",
    "\n",
    "Se pueden realizar las operaciones basicas entre numeros\n"
   ]
  },
  {
   "cell_type": "code",
   "execution_count": 10,
   "metadata": {
    "colab": {
     "base_uri": "https://localhost:8080/",
     "height": 51
    },
    "executionInfo": {
     "elapsed": 916,
     "status": "ok",
     "timestamp": 1603052123124,
     "user": {
      "displayName": "Francisco Possetto",
      "photoUrl": "https://lh3.googleusercontent.com/a-/AOh14GgMnKB1kcatiDzoSJ2uSpMKWVjksn7exIN7HAs=s64",
      "userId": "13006079839266746506"
     },
     "user_tz": 180
    },
    "id": "QbeN4rjGPBN2",
    "outputId": "702fe68e-4832-408c-d304-fd07ad088616"
   },
   "outputs": [
    {
     "name": "stdout",
     "output_type": "stream",
     "text": [
      "24\n",
      "16\n"
     ]
    }
   ],
   "source": [
    "a = 20\n",
    "b = 4\n",
    "print(a+b)\n",
    "print(a-b)"
   ]
  },
  {
   "cell_type": "markdown",
   "metadata": {
    "id": "t4JcimwwJvd2"
   },
   "source": [
    "Se pueden realizar las operaciones incluso entre distintos tipos de variables"
   ]
  },
  {
   "cell_type": "code",
   "execution_count": 11,
   "metadata": {
    "colab": {
     "base_uri": "https://localhost:8080/",
     "height": 51
    },
    "executionInfo": {
     "elapsed": 913,
     "status": "ok",
     "timestamp": 1603052125385,
     "user": {
      "displayName": "Francisco Possetto",
      "photoUrl": "https://lh3.googleusercontent.com/a-/AOh14GgMnKB1kcatiDzoSJ2uSpMKWVjksn7exIN7HAs=s64",
      "userId": "13006079839266746506"
     },
     "user_tz": 180
    },
    "id": "x7NDD_tJPBN6",
    "outputId": "1664f0d9-e29f-497b-da8a-2a27f1a79f7c"
   },
   "outputs": [
    {
     "name": "stdout",
     "output_type": "stream",
     "text": [
      "24.5\n",
      "15.5\n"
     ]
    }
   ],
   "source": [
    "a = 20\n",
    "b = 4.5\n",
    "\n",
    "c = a+b\n",
    "d = a-b\n",
    "\n",
    "print(c)\n",
    "print(d)"
   ]
  },
  {
   "cell_type": "markdown",
   "metadata": {
    "id": "oNsWzLiBJvd-"
   },
   "source": [
    "¿De qué tipo es la variable resultante? Trata de adivinarlo antes de correr la celda siguiente."
   ]
  },
  {
   "cell_type": "code",
   "execution_count": 12,
   "metadata": {
    "colab": {
     "base_uri": "https://localhost:8080/",
     "height": 51
    },
    "executionInfo": {
     "elapsed": 907,
     "status": "ok",
     "timestamp": 1603052131931,
     "user": {
      "displayName": "Francisco Possetto",
      "photoUrl": "https://lh3.googleusercontent.com/a-/AOh14GgMnKB1kcatiDzoSJ2uSpMKWVjksn7exIN7HAs=s64",
      "userId": "13006079839266746506"
     },
     "user_tz": 180
    },
    "id": "yZLqW2ZYPBN_",
    "outputId": "48d99749-382c-4ba1-8ed3-dc14a255285d"
   },
   "outputs": [
    {
     "name": "stdout",
     "output_type": "stream",
     "text": [
      "<class 'float'>\n",
      "<class 'float'>\n"
     ]
    }
   ],
   "source": [
    "print(type(c))\n",
    "print(type(d))"
   ]
  },
  {
   "cell_type": "markdown",
   "metadata": {
    "id": "bLtMd2Z_JveF"
   },
   "source": [
    "También podemos dividir números."
   ]
  },
  {
   "cell_type": "code",
   "execution_count": 13,
   "metadata": {
    "colab": {
     "base_uri": "https://localhost:8080/",
     "height": 34
    },
    "executionInfo": {
     "elapsed": 974,
     "status": "ok",
     "timestamp": 1603052135393,
     "user": {
      "displayName": "Francisco Possetto",
      "photoUrl": "https://lh3.googleusercontent.com/a-/AOh14GgMnKB1kcatiDzoSJ2uSpMKWVjksn7exIN7HAs=s64",
      "userId": "13006079839266746506"
     },
     "user_tz": 180
    },
    "id": "z9kq2lEVPBOF",
    "outputId": "40179840-ac59-4b22-9205-f1ea69381fc1"
   },
   "outputs": [
    {
     "name": "stdout",
     "output_type": "stream",
     "text": [
      "3.3333333333333335\n"
     ]
    }
   ],
   "source": [
    "x = 10\n",
    "y = 3\n",
    "z = x/y\n",
    "print(z)"
   ]
  },
  {
   "cell_type": "markdown",
   "metadata": {
    "id": "V-RQ8mBIJveM"
   },
   "source": [
    "¿De qué tipo es la variable resultante de hacer la división? A pesar de dividir dos números enteros, el resultado es de tipo `float`. ¡Ésta es una de las diferencias entre Python 2 y Python 3."
   ]
  },
  {
   "cell_type": "code",
   "execution_count": 14,
   "metadata": {
    "colab": {
     "base_uri": "https://localhost:8080/",
     "height": 34
    },
    "executionInfo": {
     "elapsed": 918,
     "status": "ok",
     "timestamp": 1603052142367,
     "user": {
      "displayName": "Francisco Possetto",
      "photoUrl": "https://lh3.googleusercontent.com/a-/AOh14GgMnKB1kcatiDzoSJ2uSpMKWVjksn7exIN7HAs=s64",
      "userId": "13006079839266746506"
     },
     "user_tz": 180
    },
    "id": "IgJQDZ7MPBOI",
    "outputId": "0fca53f3-5234-4c11-9548-6870caface6c"
   },
   "outputs": [
    {
     "name": "stdout",
     "output_type": "stream",
     "text": [
      "<class 'float'>\n"
     ]
    }
   ],
   "source": [
    "print(type(z))"
   ]
  },
  {
   "cell_type": "markdown",
   "metadata": {
    "id": "uxfV-jOYJved"
   },
   "source": [
    "La siguiente operación es muy usada en computación, nos devuelve el resto de la división. ¿No recuerdas qué es el resto? Puedes investigarlo [aquí](https://www.disfrutalasmatematicas.com/numeros/division-resto.html)."
   ]
  },
  {
   "cell_type": "code",
   "execution_count": 15,
   "metadata": {
    "colab": {
     "base_uri": "https://localhost:8080/",
     "height": 51
    },
    "executionInfo": {
     "elapsed": 916,
     "status": "ok",
     "timestamp": 1603052158821,
     "user": {
      "displayName": "Francisco Possetto",
      "photoUrl": "https://lh3.googleusercontent.com/a-/AOh14GgMnKB1kcatiDzoSJ2uSpMKWVjksn7exIN7HAs=s64",
      "userId": "13006079839266746506"
     },
     "user_tz": 180
    },
    "id": "tZWn26P9PBON",
    "outputId": "9b96025c-fbf8-4334-945d-853851b1e2d9"
   },
   "outputs": [
    {
     "name": "stdout",
     "output_type": "stream",
     "text": [
      "1\n",
      "<class 'int'>\n"
     ]
    }
   ],
   "source": [
    "x = 10\n",
    "y = 3\n",
    "print(x%y)\n",
    "print(type(x%y))"
   ]
  },
  {
   "cell_type": "markdown",
   "metadata": {
    "id": "-5X5DceISQ-O"
   },
   "source": [
    "**Ejercicio**: Calcular el porcentaje que representa el valor 17 sobre un total de 54 y guardarlo en una variable llamada `porcentaje`."
   ]
  },
  {
   "cell_type": "code",
   "execution_count": 22,
   "metadata": {
    "colab": {
     "base_uri": "https://localhost:8080/",
     "height": 51
    },
    "executionInfo": {
     "elapsed": 1044,
     "status": "ok",
     "timestamp": 1603052339083,
     "user": {
      "displayName": "Francisco Possetto",
      "photoUrl": "https://lh3.googleusercontent.com/a-/AOh14GgMnKB1kcatiDzoSJ2uSpMKWVjksn7exIN7HAs=s64",
      "userId": "13006079839266746506"
     },
     "user_tz": 180
    },
    "id": "RztYLbRnYG37",
    "outputId": "f3ed433e-3c02-4838-c342-aaef0e0e6c8d"
   },
   "outputs": [
    {
     "name": "stdout",
     "output_type": "stream",
     "text": [
      "31.48148148148148%\n",
      "test: 17.0\n"
     ]
    }
   ],
   "source": [
    "# COMPLETAR\n",
    "porcentaje = (17*100)/54\n",
    "print(str(porcentaje) + \"%\")\n",
    "\n",
    "print(\"test: \" + str(54*(porcentaje/100)))"
   ]
  },
  {
   "cell_type": "markdown",
   "metadata": {
    "id": "sOTLmVfbvVj5"
   },
   "source": [
    "#### **Ejercicio - Challenge**: calcula la suma y multiplicación de las variables `a`, `b` y `c`. ¡Presta atención al tipo de dato!"
   ]
  },
  {
   "cell_type": "code",
   "execution_count": 24,
   "metadata": {
    "colab": {
     "base_uri": "https://localhost:8080/",
     "height": 51
    },
    "executionInfo": {
     "elapsed": 1034,
     "status": "ok",
     "timestamp": 1603052429955,
     "user": {
      "displayName": "Francisco Possetto",
      "photoUrl": "https://lh3.googleusercontent.com/a-/AOh14GgMnKB1kcatiDzoSJ2uSpMKWVjksn7exIN7HAs=s64",
      "userId": "13006079839266746506"
     },
     "user_tz": 180
    },
    "id": "JUyyfS0lvnWR",
    "outputId": "c45e9f64-5c24-489a-fb43-4288a585d302"
   },
   "outputs": [
    {
     "name": "stdout",
     "output_type": "stream",
     "text": [
      "4.3\n",
      "-85.8\n"
     ]
    }
   ],
   "source": [
    "a = '2'\n",
    "b = '-5.5'\n",
    "c = '7.8'\n",
    "\n",
    "# COMPLETAR\n",
    "suma = float(a)+float(b)+float(c)\n",
    "multiplicacion = float(a)*float(b)*float(c)\n",
    "\n",
    "print(suma)\n",
    "print(multiplicacion)"
   ]
  },
  {
   "cell_type": "markdown",
   "metadata": {
    "id": "Rdo5rRsdPBO7"
   },
   "source": [
    "## 2. Listas y Loops\n",
    "\n",
    "Ya vimos los tipos de datos básicos de Python. Es hora de empezar a combinarlos.\n",
    "\n",
    "### 2.1 Listas\n",
    "\n",
    "Las listas un objeto central en el lenguaje Python. Están compuestas por una sucesión de objetos en un orden determinado. Se definen mediante corchetes `[]`, y los objetos dentro de ellas se separan por comas `,`. Veamos un ejemplo:"
   ]
  },
  {
   "cell_type": "code",
   "execution_count": 25,
   "metadata": {
    "colab": {
     "base_uri": "https://localhost:8080/",
     "height": 34
    },
    "executionInfo": {
     "elapsed": 956,
     "status": "ok",
     "timestamp": 1603052627566,
     "user": {
      "displayName": "Francisco Possetto",
      "photoUrl": "https://lh3.googleusercontent.com/a-/AOh14GgMnKB1kcatiDzoSJ2uSpMKWVjksn7exIN7HAs=s64",
      "userId": "13006079839266746506"
     },
     "user_tz": 180
    },
    "id": "vA9XBz5mPBO8",
    "outputId": "3cf1be75-3401-4e02-a5de-03461bd48ea3"
   },
   "outputs": [
    {
     "name": "stdout",
     "output_type": "stream",
     "text": [
      "[42, 10.7, True, 'Texto']\n"
     ]
    }
   ],
   "source": [
    "lista_1 = [42, 10.7, True, 'Texto']\n",
    "print(lista_1)"
   ]
  },
  {
   "cell_type": "markdown",
   "metadata": {
    "id": "286PH7uXJves"
   },
   "source": [
    "**Notar** que la lista puede contener varios tipos de datos diferentes sin ningún problema.\n",
    "\n",
    "Una pregunta muy usual que uno hace cuando trabaja con listas es cuántos elementos tiene. Esto lo podemos responder con el comando `len()`"
   ]
  },
  {
   "cell_type": "code",
   "execution_count": 26,
   "metadata": {
    "colab": {
     "base_uri": "https://localhost:8080/",
     "height": 34
    },
    "executionInfo": {
     "elapsed": 1071,
     "status": "ok",
     "timestamp": 1603052629928,
     "user": {
      "displayName": "Francisco Possetto",
      "photoUrl": "https://lh3.googleusercontent.com/a-/AOh14GgMnKB1kcatiDzoSJ2uSpMKWVjksn7exIN7HAs=s64",
      "userId": "13006079839266746506"
     },
     "user_tz": 180
    },
    "id": "D4nWSXKSPBO_",
    "outputId": "bbdc1e4c-8705-47d0-9e5b-3f4aaa709d7f"
   },
   "outputs": [
    {
     "data": {
      "text/plain": [
       "4"
      ]
     },
     "execution_count": 26,
     "metadata": {
      "tags": []
     },
     "output_type": "execute_result"
    }
   ],
   "source": [
    "len(lista_1)"
   ]
  },
  {
   "cell_type": "markdown",
   "metadata": {
    "id": "b0wCmLL2PBPC"
   },
   "source": [
    "#### Indexado\n",
    "\n",
    "Cada elemento de una lista tiene asignada una posición (*índice*) que podemos usar para inspeccionar ese elemento u operar con él. Los índices **empiezan en 0**, y se especifican poniendo corchetes con el índice dentro luego del nombre de la lista:"
   ]
  },
  {
   "cell_type": "code",
   "execution_count": 42,
   "metadata": {
    "colab": {
     "base_uri": "https://localhost:8080/",
     "height": 68
    },
    "executionInfo": {
     "elapsed": 964,
     "status": "ok",
     "timestamp": 1603053576470,
     "user": {
      "displayName": "Francisco Possetto",
      "photoUrl": "https://lh3.googleusercontent.com/a-/AOh14GgMnKB1kcatiDzoSJ2uSpMKWVjksn7exIN7HAs=s64",
      "userId": "13006079839266746506"
     },
     "user_tz": 180
    },
    "id": "Jepw64oFPBPC",
    "outputId": "7502e00e-f102-4d6c-a875-0e7d6acecbcb"
   },
   "outputs": [
    {
     "name": "stdout",
     "output_type": "stream",
     "text": [
      "5\n",
      "6.0\n",
      "Un poco de texto\n"
     ]
    }
   ],
   "source": [
    "lista_2 = [5, 6.0,'Un poco de texto',-5, False, 'Más texto', True, 100]\n",
    "lista_2b = list(range(100))\n",
    "print(lista_2[0])\n",
    "print(lista_2[1])\n",
    "print(lista_2[2])"
   ]
  },
  {
   "cell_type": "markdown",
   "metadata": {
    "id": "WOz0qLeiJve4"
   },
   "source": [
    "**Ejercicio**: imprimir el séptimo elemento de `lista_2`. Asegurarte que lo hiciste bien contando los elementos de la lista."
   ]
  },
  {
   "cell_type": "code",
   "execution_count": 28,
   "metadata": {
    "colab": {
     "base_uri": "https://localhost:8080/",
     "height": 34
    },
    "executionInfo": {
     "elapsed": 1104,
     "status": "ok",
     "timestamp": 1603052657153,
     "user": {
      "displayName": "Francisco Possetto",
      "photoUrl": "https://lh3.googleusercontent.com/a-/AOh14GgMnKB1kcatiDzoSJ2uSpMKWVjksn7exIN7HAs=s64",
      "userId": "13006079839266746506"
     },
     "user_tz": 180
    },
    "id": "7ow4VjxZJve8",
    "outputId": "fe5ea023-3ad0-4ab8-ecf2-e1d8cc427a26"
   },
   "outputs": [
    {
     "name": "stdout",
     "output_type": "stream",
     "text": [
      "True\n"
     ]
    }
   ],
   "source": [
    "# COMPLETAR\n",
    "print(lista_2[6])"
   ]
  },
  {
   "cell_type": "markdown",
   "metadata": {
    "id": "qS6wo6wUJvfA"
   },
   "source": [
    "También podemos seleccionar porciones de la lista, no solamente de a un elemento por vez."
   ]
  },
  {
   "cell_type": "code",
   "execution_count": 56,
   "metadata": {
    "colab": {
     "base_uri": "https://localhost:8080/",
     "height": 105
    },
    "executionInfo": {
     "elapsed": 950,
     "status": "ok",
     "timestamp": 1603053977351,
     "user": {
      "displayName": "Francisco Possetto",
      "photoUrl": "https://lh3.googleusercontent.com/a-/AOh14GgMnKB1kcatiDzoSJ2uSpMKWVjksn7exIN7HAs=s64",
      "userId": "13006079839266746506"
     },
     "user_tz": 180
    },
    "id": "mVfn1mYHPBPK",
    "outputId": "3b092ccf-8c6b-4d57-ce26-b24920ec7505"
   },
   "outputs": [
    {
     "name": "stdout",
     "output_type": "stream",
     "text": [
      "[42, 10.7, True]\n",
      "[False, 'Más texto', True, 100]\n",
      "[6.0, -5]\n",
      "[0, 1, 2, 3, 4, 5, 6, 7, 8, 9, 10, 11, 12, 13, 14, 15, 16, 17, 18, 19, 20, 21, 22, 23, 24, 25, 26, 27, 28, 29, 30, 31, 32, 33, 34, 35, 36, 37, 38, 39, 40, 41, 42, 43, 44, 45, 46, 47, 48, 49, 50, 51, 52, 53, 54, 55, 56, 57, 58, 59, 60, 61, 62, 63, 64, 65, 66, 67, 68, 69, 70, 71, 72, 73, 74, 75, 76, 77, 78, 79, 80, 81, 82, 83, 84, 85, 86, 87, 88, 89, 90, 91, 92, 93, 94, 95, 96, 97, 98, 99]\n"
     ]
    }
   ],
   "source": [
    "print(lista_1[0:3])\n",
    "print(lista_2[4:])\n",
    "print(lista_2[1:5:2])\n",
    "\n",
    "print(lista_2b[:])"
   ]
  },
  {
   "cell_type": "markdown",
   "metadata": {
    "id": "3RrvsnVRJvfF"
   },
   "source": [
    "¿Cuál es la lógica que gobierna esta sintaxis? Juega un poco con ella y fíjate si logras descubrir la regla. Sino, también puedes googlear qué es *slicing*.\n",
    "\n",
    "Algo más sobre indexado. Podemos indexar *desde el final* de la lista usando números negativos."
   ]
  },
  {
   "cell_type": "code",
   "execution_count": null,
   "metadata": {
    "id": "zZORvWBvJvfG"
   },
   "outputs": [],
   "source": [
    "print(lista_2[-1])\n",
    "print(lista_2[-2])\n",
    "print(lista_2[-8])"
   ]
  },
  {
   "cell_type": "markdown",
   "metadata": {
    "id": "qyaVS4DtJvfJ"
   },
   "source": [
    "Veamos una cosita más. Creemos una tercera lista"
   ]
  },
  {
   "cell_type": "code",
   "execution_count": 57,
   "metadata": {
    "colab": {
     "base_uri": "https://localhost:8080/",
     "height": 51
    },
    "executionInfo": {
     "elapsed": 917,
     "status": "ok",
     "timestamp": 1603054038228,
     "user": {
      "displayName": "Francisco Possetto",
      "photoUrl": "https://lh3.googleusercontent.com/a-/AOh14GgMnKB1kcatiDzoSJ2uSpMKWVjksn7exIN7HAs=s64",
      "userId": "13006079839266746506"
     },
     "user_tz": 180
    },
    "id": "-nQ_FGfNPBPM",
    "outputId": "01e4c0cf-ad03-4aab-8d92-d25ed7d5c123"
   },
   "outputs": [
    {
     "name": "stdout",
     "output_type": "stream",
     "text": [
      "[0, [42, 10.7, True, 'Texto'], 'Mas texto', [5, 6.0, 'Un poco de texto', -5, False, 'Más texto', True, 100]]\n",
      "4\n"
     ]
    }
   ],
   "source": [
    "# Definimos una segunda lista\n",
    "lista_3 = [0, lista_1, 'Mas texto', lista_2]\n",
    "print(lista_3)\n",
    "print(len(lista_3))"
   ]
  },
  {
   "cell_type": "markdown",
   "metadata": {
    "id": "5YSBWt8tPBPP"
   },
   "source": [
    "Notemos que en esta tercera lista, agregamos dentro la primera y la segunda lista. Ambas listas ahora son elementos de esta tercera lista. Prestar particular atención a cuántos elementos tiene `lista_3`. ¡No importa cuántos elementos tienen `lista_1` o `lista_2`, dentro de `lista_3` solamente cuentan como uno!"
   ]
  },
  {
   "cell_type": "code",
   "execution_count": null,
   "metadata": {
    "id": "3WYr5rJQPBPQ"
   },
   "outputs": [],
   "source": [
    "print(lista_3[1])"
   ]
  },
  {
   "cell_type": "markdown",
   "metadata": {
    "id": "RsTtGltdJvfT"
   },
   "source": [
    "**Ejercicio:** tomando `lista_1` desde `lista_3` (lo que acabamos de hacer en la celda anterior), indexar el tercer elemento de `lista_1`. Debería darte como resultado `True`."
   ]
  },
  {
   "cell_type": "code",
   "execution_count": 58,
   "metadata": {
    "colab": {
     "base_uri": "https://localhost:8080/",
     "height": 34
    },
    "executionInfo": {
     "elapsed": 997,
     "status": "ok",
     "timestamp": 1603054107819,
     "user": {
      "displayName": "Francisco Possetto",
      "photoUrl": "https://lh3.googleusercontent.com/a-/AOh14GgMnKB1kcatiDzoSJ2uSpMKWVjksn7exIN7HAs=s64",
      "userId": "13006079839266746506"
     },
     "user_tz": 180
    },
    "id": "on1ihAbHJvfU",
    "outputId": "696bd704-5137-41bd-c43b-6e91a3809f3d"
   },
   "outputs": [
    {
     "name": "stdout",
     "output_type": "stream",
     "text": [
      "True\n"
     ]
    }
   ],
   "source": [
    "# COMPLETAR\n",
    "print(lista_3[1][2])"
   ]
  },
  {
   "cell_type": "markdown",
   "metadata": {
    "id": "ZbA1JYFxPBPR"
   },
   "source": [
    "**Lista Vacía y `append()`**\n",
    "\n",
    "Podemos crear listas vacias e ir agregándole elementos con el método `append()`"
   ]
  },
  {
   "cell_type": "code",
   "execution_count": 59,
   "metadata": {
    "colab": {
     "base_uri": "https://localhost:8080/",
     "height": 34
    },
    "executionInfo": {
     "elapsed": 923,
     "status": "ok",
     "timestamp": 1603054119227,
     "user": {
      "displayName": "Francisco Possetto",
      "photoUrl": "https://lh3.googleusercontent.com/a-/AOh14GgMnKB1kcatiDzoSJ2uSpMKWVjksn7exIN7HAs=s64",
      "userId": "13006079839266746506"
     },
     "user_tz": 180
    },
    "id": "7VWvo-GwPBPT",
    "outputId": "530c5cc5-05f7-4377-8583-2b7b48247942"
   },
   "outputs": [
    {
     "data": {
      "text/plain": [
       "0"
      ]
     },
     "execution_count": 59,
     "metadata": {
      "tags": []
     },
     "output_type": "execute_result"
    }
   ],
   "source": [
    "lista_vacia = []\n",
    "len(lista_vacia)"
   ]
  },
  {
   "cell_type": "code",
   "execution_count": 60,
   "metadata": {
    "colab": {
     "base_uri": "https://localhost:8080/",
     "height": 51
    },
    "executionInfo": {
     "elapsed": 917,
     "status": "ok",
     "timestamp": 1603054123514,
     "user": {
      "displayName": "Francisco Possetto",
      "photoUrl": "https://lh3.googleusercontent.com/a-/AOh14GgMnKB1kcatiDzoSJ2uSpMKWVjksn7exIN7HAs=s64",
      "userId": "13006079839266746506"
     },
     "user_tz": 180
    },
    "id": "pmlQp8PEPBPV",
    "outputId": "1e4fa694-434f-4d62-d0ec-fdce9c64a19b"
   },
   "outputs": [
    {
     "name": "stdout",
     "output_type": "stream",
     "text": [
      "[42, 'un segundo item']\n",
      "2\n"
     ]
    }
   ],
   "source": [
    "lista_vacia.append(42)\n",
    "lista_vacia.append('un segundo item')\n",
    "print(lista_vacia)\n",
    "print(len(lista_vacia))"
   ]
  },
  {
   "cell_type": "markdown",
   "metadata": {
    "id": "sU-6LA63PBPX"
   },
   "source": [
    "Prueba qué pasa si corren nuevamente la celda anterior (justo arriba de ésta). Notar que el método `append()` no solamente trabaja en listas vacías.\n",
    "\n",
    "**Ejercicio**: Define una lista vacia llamada `lista_nueva` y agréguele (`append()`) los elementos `a`, `b` y `c`."
   ]
  },
  {
   "cell_type": "code",
   "execution_count": 62,
   "metadata": {
    "colab": {
     "base_uri": "https://localhost:8080/",
     "height": 34
    },
    "executionInfo": {
     "elapsed": 910,
     "status": "ok",
     "timestamp": 1603054189529,
     "user": {
      "displayName": "Francisco Possetto",
      "photoUrl": "https://lh3.googleusercontent.com/a-/AOh14GgMnKB1kcatiDzoSJ2uSpMKWVjksn7exIN7HAs=s64",
      "userId": "13006079839266746506"
     },
     "user_tz": 180
    },
    "id": "jXs-Rkh6VF8K",
    "outputId": "8ac1e73d-2a86-4910-b81e-5bde8771264e"
   },
   "outputs": [
    {
     "name": "stdout",
     "output_type": "stream",
     "text": [
      "[8, 'world', [12, 24.5, 66]]\n"
     ]
    }
   ],
   "source": [
    "a = 8\n",
    "b = 'world'\n",
    "c = [12,24.5,66]\n",
    "\n",
    "lista_nueva = [a , b , c ]\n",
    "print(lista_nueva)"
   ]
  },
  {
   "cell_type": "markdown",
   "metadata": {
    "id": "fOCxehC_Jvfm"
   },
   "source": [
    "**CUIDADO:** a veces queremos copiar una lista, operar sobre ella y comparar los resultados con la lista original. Sin embargo, hay que tener cuidado cuando queremos copiar listas"
   ]
  },
  {
   "cell_type": "code",
   "execution_count": 63,
   "metadata": {
    "colab": {
     "base_uri": "https://localhost:8080/",
     "height": 34
    },
    "executionInfo": {
     "elapsed": 1112,
     "status": "ok",
     "timestamp": 1603054223041,
     "user": {
      "displayName": "Francisco Possetto",
      "photoUrl": "https://lh3.googleusercontent.com/a-/AOh14GgMnKB1kcatiDzoSJ2uSpMKWVjksn7exIN7HAs=s64",
      "userId": "13006079839266746506"
     },
     "user_tz": 180
    },
    "id": "t9WclLNMJvfn",
    "outputId": "d89e8fe1-c45a-493c-9ee4-9048a0fe8047"
   },
   "outputs": [
    {
     "name": "stdout",
     "output_type": "stream",
     "text": [
      "[1, 2, 3, 100] [1, 2, 3, 100]\n"
     ]
    }
   ],
   "source": [
    "lista_1 = [1,2,3,4]\n",
    "lista_2 = lista_1  # lista_2 ahora es igual a lista_1\n",
    "lista_2[-1] = 100 # el ultimo elemento de la lista_2 ahora es 100\n",
    "print(lista_1, lista_2)"
   ]
  },
  {
   "cell_type": "markdown",
   "metadata": {
    "id": "SDNdtX3uJvfr"
   },
   "source": [
    "¡Notar que se modificaron ambas listas! Esto, en general, no es lo deseado. Pero podemos hacerlo bien:"
   ]
  },
  {
   "cell_type": "code",
   "execution_count": null,
   "metadata": {
    "id": "tGukUgixJvfs"
   },
   "outputs": [],
   "source": [
    "lista_1 = [1,2,3,4]\n",
    "lista_2 = lista_1.copy() # Prestar atención aquí\n",
    "lista_2[-1] = 100\n",
    "print(lista_1, lista_2)"
   ]
  },
  {
   "cell_type": "markdown",
   "metadata": {
    "id": "1gP68SzLJvfy"
   },
   "source": [
    "¡Ahora no! Es decir, si queremos copiar listas, debemos poner `.copy()`. Esto no solo vale para listas, sino para objetos que veremos en los próximos encuentros, como arreglos de Numpy y dataframes de Pandas."
   ]
  },
  {
   "cell_type": "markdown",
   "metadata": {
    "id": "oGW0jo5hPBPZ"
   },
   "source": [
    "### 2.2 Loops\n",
    "\n",
    "En general, cuando estamos programando, queremos repetir una operación varias veces. Por ejemplo, aplicarle una operación a los elementos de una lista. Si la lista tiene muchos elementos, puede ser engorroso escribir la aplicación de esa operacíon a cada elemento uno por uno, por lo que necesitamos alguna estructura de código que facilite esa sintaxis. \n",
    "\n",
    "Los **Loops** (bucles) son estructuras de codigo fundamentales en cualquier lenguaje de programación. Consisten en bloques de código que se repiten una cierta cantidad de veces dada una condición. Existen dos formas básicas de crear loops, las instrucciones tipo `for` y las instrucciones tipo `while`. Te vamos a contar de qué se tratan los `for`, si te interesa pueden googlear cómo funcionan los `while`.\n",
    "\n",
    "El `for` es un loop en el que un bloque de código se repite tantas veces como elementos haya en una determinada lista. En cada iteración (repetición) hay una variable que va tomando el valor de uno de los elementos en esta lista. Veamos un ejemplo:"
   ]
  },
  {
   "cell_type": "code",
   "execution_count": 64,
   "metadata": {
    "colab": {
     "base_uri": "https://localhost:8080/",
     "height": 102
    },
    "executionInfo": {
     "elapsed": 970,
     "status": "ok",
     "timestamp": 1603054577968,
     "user": {
      "displayName": "Francisco Possetto",
      "photoUrl": "https://lh3.googleusercontent.com/a-/AOh14GgMnKB1kcatiDzoSJ2uSpMKWVjksn7exIN7HAs=s64",
      "userId": "13006079839266746506"
     },
     "user_tz": 180
    },
    "id": "hZw979QmPBPa",
    "outputId": "7abe2f6c-d88b-496f-f049-4e433fa3033a"
   },
   "outputs": [
    {
     "name": "stdout",
     "output_type": "stream",
     "text": [
      "3\n",
      "55\n",
      "1\n",
      "876\n",
      "12\n"
     ]
    }
   ],
   "source": [
    "lista_numeros = [3,55,1,876,12]\n",
    "for elemento in lista_numeros:\n",
    "    # Definimos el codigo dentro del for mediante la indentación\n",
    "    # (Todo lo que este corrido un 'tab' a la derecha)\n",
    "    print(elemento)"
   ]
  },
  {
   "cell_type": "markdown",
   "metadata": {
    "id": "yie0RDfK3z0x"
   },
   "source": [
    "Prestar particular atención a que el código que está \"dentro\" del `for` está **indentado**. En algunos lenguajes de programación la indentación se utiliza para ordenar el código, hacerlo más legible. En Python, en cambio, es **obligatorio**. Se logra con cuatro espacios o un tab.\n",
    "\n",
    "Repitamos los mismo que la celda anterior. pero ahora agregamos una variable `i` que cuenta la cantidad de veces que recorrimos el bucle `for` ."
   ]
  },
  {
   "cell_type": "code",
   "execution_count": 65,
   "metadata": {
    "colab": {
     "base_uri": "https://localhost:8080/",
     "height": 102
    },
    "executionInfo": {
     "elapsed": 1148,
     "status": "ok",
     "timestamp": 1603054593850,
     "user": {
      "displayName": "Francisco Possetto",
      "photoUrl": "https://lh3.googleusercontent.com/a-/AOh14GgMnKB1kcatiDzoSJ2uSpMKWVjksn7exIN7HAs=s64",
      "userId": "13006079839266746506"
     },
     "user_tz": 180
    },
    "id": "kpqiAZb-PBPd",
    "outputId": "3a067d3e-2da4-4058-ff68-a112e6b707f7"
   },
   "outputs": [
    {
     "name": "stdout",
     "output_type": "stream",
     "text": [
      "3 1\n",
      "55 2\n",
      "1 3\n",
      "876 4\n",
      "12 5\n"
     ]
    }
   ],
   "source": [
    "lista_numeros = [3,55,1,876,12]\n",
    "i = 0 # La iniciamos en cero\n",
    "\n",
    "for elemento in lista_numeros:    \n",
    "    i = i+1 # Le sumamos 1 cada vez que entra\n",
    "    print(elemento, i)"
   ]
  },
  {
   "cell_type": "markdown",
   "metadata": {
    "id": "8C8nZYZT5QME"
   },
   "source": [
    "Tomarte unos minutos para entender qué hace la línea `i = i + 1`."
   ]
  },
  {
   "cell_type": "markdown",
   "metadata": {
    "id": "Qbz2a3orPBPl"
   },
   "source": [
    "También podemos recorrer listas de texto. Presten atencion al siguiente codigo, e intenten precedir el resultado antes de correr la celda."
   ]
  },
  {
   "cell_type": "code",
   "execution_count": null,
   "metadata": {
    "id": "z1jQ13uzPBPm"
   },
   "outputs": [],
   "source": [
    "lista_nombres = ['Ernesto', 'Camilo', 'Violeta']\n",
    "nueva_lista = []\n",
    "\n",
    "for item in lista_nombres:\n",
    "    oracion = 'Mi nombre es ' + item\n",
    "    nueva_lista.append(oracion)\n",
    "\n",
    "# Este print esta fuera del bucle, no está indentado\n",
    "print(nueva_lista)"
   ]
  },
  {
   "cell_type": "markdown",
   "metadata": {
    "id": "YrQ5I9FZ53sq"
   },
   "source": [
    "Terminamos las explicaciones por el momento. Sabemos que fue bastante y que probablemente estés cansado/a. Recomendamos tomarte un tiempo para descansar y, luego, intentar los siguientes ejercicios. Es MUY importante intentarlo, no importa si sientes que no terminan de resolverlos.\n",
    "\n",
    "## Ejercitación\n",
    "\n",
    "En general, no hay una única forma de resolver los ejercicios que vamos a dejar. Lo que sí ocurre, a veces, es que hay formas más *eficientes* o *prolijas*. No debes preocuparte por eso ahora, lo importante es intentar resolverlos.\n",
    "\n",
    "**Ejercicios 1 y 2:** Si tenemos una lista de números, por ejemplo los primeros diez numeros naturales, e intentamos sumarle un número fijo a la lista, por ejemplo 3, tal vez intentemos algo parecido a lo siguiente: \n",
    "\n"
   ]
  },
  {
   "cell_type": "code",
   "execution_count": 72,
   "metadata": {
    "colab": {
     "base_uri": "https://localhost:8080/",
     "height": 180
    },
    "executionInfo": {
     "elapsed": 952,
     "status": "error",
     "timestamp": 1603054772712,
     "user": {
      "displayName": "Francisco Possetto",
      "photoUrl": "https://lh3.googleusercontent.com/a-/AOh14GgMnKB1kcatiDzoSJ2uSpMKWVjksn7exIN7HAs=s64",
      "userId": "13006079839266746506"
     },
     "user_tz": 180
    },
    "id": "DNaZ9yIy7wXr",
    "outputId": "3f57c1d0-3c9c-405a-b349-b5e57eaf3cd3"
   },
   "outputs": [
    {
     "ename": "TypeError",
     "evalue": "ignored",
     "output_type": "error",
     "traceback": [
      "\u001b[0;31m---------------------------------------------------------------------------\u001b[0m",
      "\u001b[0;31mTypeError\u001b[0m                                 Traceback (most recent call last)",
      "\u001b[0;32m<ipython-input-72-b0db7693de0c>\u001b[0m in \u001b[0;36m<module>\u001b[0;34m()\u001b[0m\n\u001b[1;32m      1\u001b[0m \u001b[0mnumeros\u001b[0m \u001b[0;34m=\u001b[0m \u001b[0;34m[\u001b[0m\u001b[0;36m0\u001b[0m\u001b[0;34m,\u001b[0m\u001b[0;36m1\u001b[0m\u001b[0;34m,\u001b[0m\u001b[0;36m2\u001b[0m\u001b[0;34m,\u001b[0m\u001b[0;36m3\u001b[0m\u001b[0;34m,\u001b[0m\u001b[0;36m4\u001b[0m\u001b[0;34m,\u001b[0m\u001b[0;36m5\u001b[0m\u001b[0;34m,\u001b[0m\u001b[0;36m6\u001b[0m\u001b[0;34m,\u001b[0m\u001b[0;36m7\u001b[0m\u001b[0;34m,\u001b[0m\u001b[0;36m8\u001b[0m\u001b[0;34m,\u001b[0m\u001b[0;36m9\u001b[0m\u001b[0;34m]\u001b[0m\u001b[0;34m\u001b[0m\u001b[0;34m\u001b[0m\u001b[0m\n\u001b[0;32m----> 2\u001b[0;31m \u001b[0mprint\u001b[0m\u001b[0;34m(\u001b[0m\u001b[0mnumeros\u001b[0m\u001b[0;34m+\u001b[0m\u001b[0;36m3\u001b[0m\u001b[0;34m)\u001b[0m\u001b[0;34m\u001b[0m\u001b[0;34m\u001b[0m\u001b[0m\n\u001b[0m",
      "\u001b[0;31mTypeError\u001b[0m: can only concatenate list (not \"int\") to list"
     ]
    }
   ],
   "source": [
    "numeros = [0,1,2,3,4,5,6,7,8,9]\n",
    "print(numeros+3)"
   ]
  },
  {
   "cell_type": "markdown",
   "metadata": {
    "id": "z5l3spVJ775e"
   },
   "source": [
    "¡Nos salta un error! (Notar que la opción de Googlear el error en Stack Overflow esta vez es más informativa.). Entonces, te proponemos que resuelvas los siguientes ejercicios:\n",
    "\n",
    "\n",
    "1. Crear una rutina que le sume tres a los diez primeros números naturales y vaya imprimiendo en pantalla a medida que lo hace.\n",
    "2. Crear una rutina que le sume tres a los diez primeros números naturales y guarde los resultados en una nueva lista. Al final, imprimir esa lista en pantalla.\n",
    "\n",
    "Si necesitas unas pistas, puedes clickear [aquí](https://colab.research.google.com/drive/1gfqynizt4gSsitlZELigCL1jIdlYkpmS), ¡pero te recomendamos que antes lo intentes!"
   ]
  },
  {
   "cell_type": "code",
   "execution_count": 75,
   "metadata": {
    "colab": {
     "base_uri": "https://localhost:8080/",
     "height": 187
    },
    "executionInfo": {
     "elapsed": 986,
     "status": "ok",
     "timestamp": 1603054833379,
     "user": {
      "displayName": "Francisco Possetto",
      "photoUrl": "https://lh3.googleusercontent.com/a-/AOh14GgMnKB1kcatiDzoSJ2uSpMKWVjksn7exIN7HAs=s64",
      "userId": "13006079839266746506"
     },
     "user_tz": 180
    },
    "id": "Cf4kcg6fCcL8",
    "outputId": "966680ea-87d4-466f-e80a-ee6dfe8b5b78"
   },
   "outputs": [
    {
     "name": "stdout",
     "output_type": "stream",
     "text": [
      "3\n",
      "4\n",
      "5\n",
      "6\n",
      "7\n",
      "8\n",
      "9\n",
      "10\n",
      "11\n",
      "12\n"
     ]
    }
   ],
   "source": [
    "# COMPLETAR\n",
    "numeros = [0,1,2,3,4,5,6,7,8,9]\n",
    "for n in numeros:\n",
    "  if(n<10):  \n",
    "    print(n+3)\n",
    "  else:\n",
    "    print(n)"
   ]
  },
  {
   "cell_type": "code",
   "execution_count": 76,
   "metadata": {
    "colab": {
     "base_uri": "https://localhost:8080/",
     "height": 34
    },
    "executionInfo": {
     "elapsed": 942,
     "status": "ok",
     "timestamp": 1603054862493,
     "user": {
      "displayName": "Francisco Possetto",
      "photoUrl": "https://lh3.googleusercontent.com/a-/AOh14GgMnKB1kcatiDzoSJ2uSpMKWVjksn7exIN7HAs=s64",
      "userId": "13006079839266746506"
     },
     "user_tz": 180
    },
    "id": "SLQUER3i9LFq",
    "outputId": "0da7433f-a27a-4e33-9bb2-84d3f698fcdb"
   },
   "outputs": [
    {
     "name": "stdout",
     "output_type": "stream",
     "text": [
      "[3, 4, 5, 6, 7, 8, 9, 10, 11, 12]\n"
     ]
    }
   ],
   "source": [
    "# COMPLETAR\n",
    "numeros_mas_tres = []\n",
    "for n in numeros:\n",
    "  if(n<10):  \n",
    "    numeros_mas_tres.append(n+3)\n",
    "  else:\n",
    "    numeros_mas_tres.append(n)\n",
    "\n",
    "print(numeros_mas_tres)"
   ]
  },
  {
   "cell_type": "markdown",
   "metadata": {
    "id": "rqAE7lt-DPuV"
   },
   "source": [
    "**Para investigar y pensar**: ¿qué ocurriría si, en lugar de querer sumarle un número a los diez primeros números naturales, quisiéramos hacerlo sobre los primeros cien?¿Y si fuera el primer millón de números naturales?¿La rutina que creaste es fácilmente adaptable? Investiga cómo podrías adaptarla. Pista: `range()`"
   ]
  },
  {
   "cell_type": "markdown",
   "metadata": {
    "id": "565EnFNTVU3V"
   },
   "source": [
    "**Ejercicio 3**: Genere una lista llamada `numerotes` que contenga el cuadrado de cada elemento en la lista `numeritos`."
   ]
  },
  {
   "cell_type": "code",
   "execution_count": 84,
   "metadata": {
    "colab": {
     "base_uri": "https://localhost:8080/",
     "height": 34
    },
    "executionInfo": {
     "elapsed": 913,
     "status": "ok",
     "timestamp": 1603055053738,
     "user": {
      "displayName": "Francisco Possetto",
      "photoUrl": "https://lh3.googleusercontent.com/a-/AOh14GgMnKB1kcatiDzoSJ2uSpMKWVjksn7exIN7HAs=s64",
      "userId": "13006079839266746506"
     },
     "user_tz": 180
    },
    "id": "YB0EcpVqV3hY",
    "outputId": "d01849b3-22a2-4dcb-85e7-72fbdc78d4e3"
   },
   "outputs": [
    {
     "name": "stdout",
     "output_type": "stream",
     "text": [
      "[9, 1, 25, 49, 144, 100, 289, 16, 484]\n"
     ]
    }
   ],
   "source": [
    "numeritos = [3,1,5,7,12,10,17,4,22]\n",
    "# COMPLETAR\n",
    "numerotes = []\n",
    "\n",
    "for n in numeritos:\n",
    "  numerotes.append(pow(n,2))\n",
    "\n",
    "print(numerotes)  \n"
   ]
  },
  {
   "cell_type": "markdown",
   "metadata": {
    "id": "pn21djUX2ms6"
   },
   "source": [
    "**Ejercicio 4:** estudiar qué ocurre si sumas,`+`, dos listas. ¿Cómo se llama esa operación?"
   ]
  },
  {
   "cell_type": "code",
   "execution_count": 85,
   "metadata": {
    "colab": {
     "base_uri": "https://localhost:8080/",
     "height": 34
    },
    "executionInfo": {
     "elapsed": 994,
     "status": "ok",
     "timestamp": 1603055114046,
     "user": {
      "displayName": "Francisco Possetto",
      "photoUrl": "https://lh3.googleusercontent.com/a-/AOh14GgMnKB1kcatiDzoSJ2uSpMKWVjksn7exIN7HAs=s64",
      "userId": "13006079839266746506"
     },
     "user_tz": 180
    },
    "id": "VznWurp02l5K",
    "outputId": "8fee1421-cc82-48cf-d526-653e24c60555"
   },
   "outputs": [
    {
     "name": "stdout",
     "output_type": "stream",
     "text": [
      "[1, 5, -8, 3, True, 'Cocodrilo que se duerme es cartera', 9, -17, 98, False]\n"
     ]
    }
   ],
   "source": [
    "lista_1 = [1,5,-8,3]\n",
    "lista_2 = [True, 'Cocodrilo que se duerme es cartera', 9, -17, 98, False]\n",
    "# COMPLETAR\n",
    "print(lista_1+lista_2)"
   ]
  },
  {
   "cell_type": "markdown",
   "metadata": {
    "id": "mwZKZSXBEA9A"
   },
   "source": [
    "La operación se llama concatenación. En este caso, de listas."
   ]
  },
  {
   "cell_type": "markdown",
   "metadata": {
    "id": "IR4u7CJok7is"
   },
   "source": [
    "**Ejercicio 5:** sumar todos los elementos de la siguiente lista. **Pistas:**\n",
    "* En un ejemplo anterior definimos una variable `i`, inicializada en cero, que fuimos modificando en cada paso de un `for`. Considerar la opción de definir una variable `suma` y utilizarla de forma parecida."
   ]
  },
  {
   "cell_type": "code",
   "execution_count": 86,
   "metadata": {
    "colab": {
     "base_uri": "https://localhost:8080/",
     "height": 34
    },
    "executionInfo": {
     "elapsed": 927,
     "status": "ok",
     "timestamp": 1603055162295,
     "user": {
      "displayName": "Francisco Possetto",
      "photoUrl": "https://lh3.googleusercontent.com/a-/AOh14GgMnKB1kcatiDzoSJ2uSpMKWVjksn7exIN7HAs=s64",
      "userId": "13006079839266746506"
     },
     "user_tz": 180
    },
    "id": "OKSDg3W4k7K-",
    "outputId": "25794140-0c4f-4f19-eea1-c50da8b505c5"
   },
   "outputs": [
    {
     "name": "stdout",
     "output_type": "stream",
     "text": [
      "6\n"
     ]
    }
   ],
   "source": [
    "numeros = [4,8,3,1,-3,3,-5,1,2,-8]\n",
    "# COMPLETAR\n",
    "suma = 0\n",
    "\n",
    "for n in numeros:\n",
    "  suma+=n\n",
    "  \n",
    "print(suma)"
   ]
  },
  {
   "cell_type": "code",
   "execution_count": null,
   "metadata": {
    "id": "fjpBun1wlsCn"
   },
   "outputs": [],
   "source": []
  }
 ],
 "metadata": {
  "colab": {
   "collapsed_sections": [],
   "name": "Acamica_DS_Bitácora_02_Python.ipynb",
   "provenance": [
    {
     "file_id": "1NTKLAaqWH2Vso5TUMH1_sOHO-tNMU_3g",
     "timestamp": 1603051866776
    }
   ]
  },
  "kernelspec": {
   "display_name": "Python 3",
   "language": "python",
   "name": "python3"
  },
  "language_info": {
   "codemirror_mode": {
    "name": "ipython",
    "version": 3
   },
   "file_extension": ".py",
   "mimetype": "text/x-python",
   "name": "python",
   "nbconvert_exporter": "python",
   "pygments_lexer": "ipython3",
   "version": "3.8.5"
  }
 },
 "nbformat": 4,
 "nbformat_minor": 1
}
